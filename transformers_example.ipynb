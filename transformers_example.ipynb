{
 "cells": [
  {
   "cell_type": "code",
   "execution_count": 5,
   "id": "75979ee4",
   "metadata": {},
   "outputs": [],
   "source": [
    "import torch\n",
    "from transformers import GPT2Tokenizer, GPT2LMHeadModel"
   ]
  },
  {
   "cell_type": "code",
   "execution_count": 8,
   "id": "d675d442",
   "metadata": {},
   "outputs": [],
   "source": [
    "tokenizer = GPT2Tokenizer.from_pretrained(\"distilgpt2\")\n",
    "model = GPT2LMHeadModel.from_pretrained(\"distilgpt2\")"
   ]
  },
  {
   "cell_type": "code",
   "execution_count": 9,
   "id": "bdc6e819",
   "metadata": {},
   "outputs": [
    {
     "name": "stdout",
     "output_type": "stream",
     "text": [
      "Input sentence: May the force be with you.\n",
      "Tokens: ['May', 'Ġthe', 'Ġforce', 'Ġbe', 'Ġwith', 'Ġyou', '.']\n",
      "Token IDs: [6747, 262, 2700, 307, 351, 345, 13]\n"
     ]
    }
   ],
   "source": [
    "input_sentence = \"May the force be with you.\"\n",
    "tokens = tokenizer.tokenize(input_sentence)\n",
    "token_ids = tokenizer.encode(input_sentence)\n",
    "\n",
    "print(f\"Input sentence: {input_sentence}\")\n",
    "print(f\"Tokens: {tokens}\")\n",
    "print(f\"Token IDs: {token_ids}\")"
   ]
  },
  {
   "cell_type": "code",
   "execution_count": 14,
   "id": "f4c80cbf",
   "metadata": {},
   "outputs": [],
   "source": [
    "def get_top_n_predictions(model, tokenizer, input_ids, n=10):\n",
    "    with torch.no_grad():\n",
    "        outputs = model(input_ids)\n",
    "        predictions = outputs.logits\n",
    "    next_word_probabilities = predictions[0, -1, :]\n",
    "    top_n_values, top_n_indices = torch.topk (next_word_probabilities, n)\n",
    "    top_n_predictions = []\n",
    "    for i in range(n):\n",
    "        predicted_token = tokenizer.decode([top_n_indices[i]])\n",
    "        top_n_predictions.append((predicted_token, top_n_values[i].item()))\n",
    "    return top_n_predictions"
   ]
  },
  {
   "cell_type": "code",
   "execution_count": null,
   "id": "6fea1ea9",
   "metadata": {},
   "outputs": [
    {
     "name": "stdout",
     "output_type": "stream",
     "text": [
      "May the force be on\n",
      "- \" on\": -64.0309\n",
      "- \" in\": -64.0530\n",
      "- \"fitting\": -64.3531\n",
      "May the force be on the\n",
      "- \" the\": -46.4960\n",
      "- \" its\": -47.9148\n",
      "- \" a\": -48.4800\n",
      "May the force be on the right\n",
      "- \" right\": -61.6658\n",
      "- \" side\": -61.7417\n",
      "- \" ground\": -61.7950\n",
      "May the force be on the right side\n",
      "- \" side\": -57.5233\n",
      "- \" track\": -58.6298\n",
      "- \".\": -59.0986\n",
      "May the force be on the right side of\n",
      "- \" of\": -36.5692\n",
      "- \".\": -38.0388\n",
      "- \",\": -38.4764\n",
      "May the force be on the right side of the\n",
      "- \" the\": -45.2770\n",
      "- \" this\": -47.7126\n",
      "- \" a\": -47.7724\n",
      "May the force be on the right side of the border\n",
      "- \" border\": -50.3143\n",
      "- \" line\": -50.3288\n",
      "- \" road\": -50.4292\n",
      "May the force be on the right side of the border.\n",
      "- \".\": -57.7002\n",
      "- \",\": -58.0834\n",
      "- \" and\": -58.8902\n",
      "May the force be on the right side of the border.�\n",
      "- \"�\": -54.9925\n",
      "- \"\n",
      "\": -55.5651\n",
      "- \"<|endoftext|>\": -56.4597\n",
      "May the force be on the right side of the border.�\n",
      "\n",
      "- \"\n",
      "\": -41.7617\n",
      "- \"<|endoftext|>\": -42.0991\n",
      "- \" The\": -44.4527\n"
     ]
    }
   ],
   "source": [
    "input_sentence = \"May the force be\"\n",
    "\n",
    "for _ in range(0, 10):\n",
    "    input_ids = tokenizer.encode(input_sentence, return_tensors=\"pt\")\n",
    "    top_predictions = get_top_n_predictions(model, tokenizer, input_ids, n=3)\n",
    "    input_sentence = input_sentence + top_predictions[0][0]\n",
    "    print(input_sentence)\n",
    "\n",
    "    for token, probability in top_predictions:\n",
    "        print(f'- \"{token}\": {probability:.4f}')"
   ]
  },
  {
   "cell_type": "code",
   "execution_count": 20,
   "id": "8a5ff269",
   "metadata": {},
   "outputs": [
    {
     "name": "stdout",
     "output_type": "stream",
     "text": [
      "Input embeddings:\n",
      " tensor([[0.1000, 0.2000, 0.3000, 0.4000, 0.5000, 0.6000, 0.7000, 0.8000, 0.9000,\n",
      "         1.0000],\n",
      "        [1.0000, 0.9000, 0.8000, 0.7000, 0.6000, 0.5000, 0.4000, 0.3000, 0.2000,\n",
      "         0.1000],\n",
      "        [0.5000, 0.6000, 0.7000, 0.8000, 0.9000, 1.0000, 0.1000, 0.2000, 0.3000,\n",
      "         0.4000],\n",
      "        [0.2000, 0.4000, 0.6000, 0.8000, 1.0000, 0.1000, 0.3000, 0.5000, 0.7000,\n",
      "         0.9000],\n",
      "        [0.9000, 0.7000, 0.5000, 0.3000, 0.1000, 1.0000, 0.8000, 0.6000, 0.4000,\n",
      "         0.2000],\n",
      "        [0.3000, 0.1000, 0.9000, 0.7000, 0.5000, 0.2000, 1.0000, 0.8000, 0.6000,\n",
      "         0.4000]])\n"
     ]
    }
   ],
   "source": [
    "import torch\n",
    "import torch.nn.functional as F\n",
    "\n",
    "word_embeddings = {\n",
    "    \"May\": torch.tensor([0.1, 0.2, 0.3, 0.4, 0.5, 0.6, 0.7, 0.8, 0.9, 1.0]),\n",
    "    \"the\": torch.tensor([1.0, 0.9, 0.8, 0.7, 0.6, 0.5, 0.4, 0.3, 0.2, 0.1]),\n",
    "    \"force\": torch.tensor([0.5, 0.6, 0.7, 0.8, 0.9, 1.0, 0.1, 0.2, 0.3, 0.4]),\n",
    "    \"be\": torch.tensor([0.2, 0.4, 0.6, 0.8, 1.0, 0.1, 0.3, 0.5, 0.7, 0.9]),\n",
    "    \"with\": torch.tensor([0.9, 0.7, 0.5, 0.3, 0.1, 1.0, 0.8, 0.6, 0.4, 0.2]),\n",
    "    \"you\": torch.tensor([0.3, 0.1, 0.9, 0.7, 0.5, 0.2, 1.0, 0.8, 0.6, 0.4])\n",
    "}\n",
    "\n",
    "input_sentence = [\"May\", \"the\", \"force\", \"be\", \"with\", \"you\"]\n",
    "input_embeddings = torch.stack([word_embeddings[word] for word in input_sentence])\n",
    "print(\"Input embeddings:\\n\", input_embeddings)"
   ]
  },
  {
   "cell_type": "code",
   "execution_count": 23,
   "id": "1aa971f4",
   "metadata": {},
   "outputs": [],
   "source": [
    "query = input_embeddings\n",
    "key = input_embeddings\n",
    "value = input_embeddings"
   ]
  },
  {
   "cell_type": "code",
   "execution_count": 21,
   "id": "33986317",
   "metadata": {},
   "outputs": [],
   "source": [
    "def calculate_attention(query, key, value, mask=None):\n",
    "    scores = torch.matmul(query, key.transpose(-2, -1))\n",
    "    if mask is not None:\n",
    "        scores = scores.masked_fill(mask == 0, -1e9)\n",
    "    attention_weights = F.softmax(scores, dim=-1)\n",
    "    output = torch.matmul(attention_weights, value)\n",
    "    return output, attention_weights"
   ]
  },
  {
   "cell_type": "code",
   "execution_count": 24,
   "id": "c35759f7",
   "metadata": {},
   "outputs": [
    {
     "name": "stdout",
     "output_type": "stream",
     "text": [
      "Context vectors: tensor([[0.3463, 0.3632, 0.5661, 0.5830, 0.5999, 0.5073, 0.6081, 0.6251, 0.6420,\n",
      "         0.6589],\n",
      "        [0.6567, 0.6127, 0.6820, 0.6381, 0.5941, 0.6257, 0.4886, 0.4447, 0.4007,\n",
      "         0.3567],\n",
      "        [0.5510, 0.5572, 0.6599, 0.6661, 0.6723, 0.6456, 0.4277, 0.4339, 0.4401,\n",
      "         0.4463],\n",
      "        [0.3734, 0.4150, 0.6252, 0.6668, 0.7084, 0.4462, 0.5038, 0.5454, 0.5870,\n",
      "         0.6286],\n",
      "        [0.6475, 0.5713, 0.6231, 0.5470, 0.4709, 0.6910, 0.6014, 0.5253, 0.4492,\n",
      "         0.3731],\n",
      "        [0.4178, 0.3792, 0.6643, 0.6257, 0.5872, 0.4614, 0.6490, 0.6104, 0.5718,\n",
      "         0.5333]])\n",
      "Attention weights: tensor([[0.3388, 0.0651, 0.1020, 0.1955, 0.1128, 0.1859],\n",
      "        [0.0622, 0.3237, 0.2064, 0.1077, 0.1867, 0.1133],\n",
      "        [0.0966, 0.2044, 0.3206, 0.1515, 0.1304, 0.0966],\n",
      "        [0.1863, 0.1075, 0.1526, 0.3230, 0.0620, 0.1686],\n",
      "        [0.1157, 0.2006, 0.1414, 0.0668, 0.3477, 0.1279],\n",
      "        [0.1776, 0.1133, 0.0975, 0.1690, 0.1191, 0.3236]])\n"
     ]
    }
   ],
   "source": [
    "context_vectors, attention_matrix = calculate_attention(query, key, value)\n",
    "\n",
    "print(\"Context vectors:\", context_vectors)\n",
    "print(\"Attention weights:\", attention_matrix)"
   ]
  },
  {
   "cell_type": "code",
   "execution_count": 25,
   "id": "0a9c63e6",
   "metadata": {},
   "outputs": [],
   "source": [
    "def cosine_similarity(vector1, vector2):\n",
    "    return F.cosine_similarity(vector1.unsqueeze(0), vector2.unsqueeze(0)).item()"
   ]
  },
  {
   "cell_type": "code",
   "execution_count": 27,
   "id": "8724f012",
   "metadata": {},
   "outputs": [],
   "source": [
    "def compare_vectors(context_vectors, attention_matrix, word_list, word_index):\n",
    "    \"\"\"Compares the context vector of a word with the context vectors of the other words,\n",
    "       taking into account the attention weights.\"\"\"\n",
    "\n",
    "    results = {}\n",
    "\n",
    "    for other_word_index in range(len(context_vectors)):\n",
    "        if word_index != other_word_index:\n",
    "            similarity = cosine_similarity(\n",
    "                context_vectors[word_index], \n",
    "                context_vectors[other_word_index])\n",
    "            results[word_list[other_word_index]] = {\n",
    "                \"Similarity\": similarity,\n",
    "                \"Attention weight\": attention_matrix[word_index, other_word_index].item()\n",
    "            }\n",
    "    return results"
   ]
  },
  {
   "cell_type": "code",
   "execution_count": 29,
   "id": "9e84c174",
   "metadata": {},
   "outputs": [
    {
     "name": "stdout",
     "output_type": "stream",
     "text": [
      "Comparison for 'May':\n",
      "  Word\t\tSimilarity\tAttention weight\n",
      "  the\t\t0.9387\t\t0.0651\n",
      "  force\t\t0.9561\t\t0.1020\n",
      "  be\t\t0.9919\t\t0.1955\n",
      "  with\t\t0.9491\t\t0.1128\n",
      "  you\t\t0.9933\t\t0.1859\n",
      "\n",
      "Comparison for 'the':\n",
      "  Word\t\tSimilarity\tAttention weight\n",
      "  May\t\t0.9387\t\t0.0622\n",
      "  force\t\t0.9944\t\t0.2064\n",
      "  be\t\t0.9542\t\t0.1077\n",
      "  with\t\t0.9913\t\t0.1867\n",
      "  you\t\t0.9596\t\t0.1133\n"
     ]
    }
   ],
   "source": [
    "# Input sentence\n",
    "input_sentence = \"May the force be with you\"\n",
    "word_list = input_sentence.split()\n",
    "\n",
    "# Example call\n",
    "results_may = compare_vectors(context_vectors, attention_matrix, word_list, 0)\n",
    "results_the = compare_vectors(context_vectors, attention_matrix, word_list, 1)\n",
    "\n",
    "# Output of results with tabbing\n",
    "print(f\"Comparison for 'May':\")\n",
    "print(\"  Word\\t\\tSimilarity\\tAttention weight\")\n",
    "for word, data in results_may.items():\n",
    "    print(f\"  {word}\\t\\t{data['Similarity']:.4f}\\t\\t{data['Attention weight']:.4f}\")\n",
    "\n",
    "print(f\"\\nComparison for 'the':\")\n",
    "print(\"  Word\\t\\tSimilarity\\tAttention weight\")\n",
    "for word, data in results_the.items():\n",
    "    print(f\"  {word}\\t\\t{data['Similarity']:.4f}\\t\\t{data['Attention weight']:.4f}\")"
   ]
  },
  {
   "cell_type": "markdown",
   "id": "64dc58d2",
   "metadata": {},
   "source": [
    "#### 1. Initializing the weighting matrices for each head"
   ]
  },
  {
   "cell_type": "code",
   "execution_count": 2,
   "id": "cbfb844e",
   "metadata": {},
   "outputs": [
    {
     "name": "stdout",
     "output_type": "stream",
     "text": [
      "Collecting seaborn\n",
      "  Using cached seaborn-0.13.2-py3-none-any.whl.metadata (5.4 kB)\n",
      "Collecting pandas\n",
      "  Downloading pandas-2.3.2-cp312-cp312-win_amd64.whl.metadata (19 kB)\n",
      "Requirement already satisfied: numpy!=1.24.0,>=1.20 in c:\\users\\gutsc\\documents\\second_brain\\quartz\\.venv\\lib\\site-packages (from seaborn) (1.26.4)\n",
      "Requirement already satisfied: matplotlib!=3.6.1,>=3.4 in c:\\users\\gutsc\\documents\\second_brain\\quartz\\.venv\\lib\\site-packages (from seaborn) (3.10.3)\n",
      "Requirement already satisfied: python-dateutil>=2.8.2 in c:\\users\\gutsc\\documents\\second_brain\\quartz\\.venv\\lib\\site-packages (from pandas) (2.9.0.post0)\n",
      "Collecting pytz>=2020.1 (from pandas)\n",
      "  Using cached pytz-2025.2-py2.py3-none-any.whl.metadata (22 kB)\n",
      "Collecting tzdata>=2022.7 (from pandas)\n",
      "  Using cached tzdata-2025.2-py2.py3-none-any.whl.metadata (1.4 kB)\n",
      "Requirement already satisfied: contourpy>=1.0.1 in c:\\users\\gutsc\\documents\\second_brain\\quartz\\.venv\\lib\\site-packages (from matplotlib!=3.6.1,>=3.4->seaborn) (1.3.2)\n",
      "Requirement already satisfied: cycler>=0.10 in c:\\users\\gutsc\\documents\\second_brain\\quartz\\.venv\\lib\\site-packages (from matplotlib!=3.6.1,>=3.4->seaborn) (0.12.1)\n",
      "Requirement already satisfied: fonttools>=4.22.0 in c:\\users\\gutsc\\documents\\second_brain\\quartz\\.venv\\lib\\site-packages (from matplotlib!=3.6.1,>=3.4->seaborn) (4.59.0)\n",
      "Requirement already satisfied: kiwisolver>=1.3.1 in c:\\users\\gutsc\\documents\\second_brain\\quartz\\.venv\\lib\\site-packages (from matplotlib!=3.6.1,>=3.4->seaborn) (1.4.8)\n",
      "Requirement already satisfied: packaging>=20.0 in c:\\users\\gutsc\\documents\\second_brain\\quartz\\.venv\\lib\\site-packages (from matplotlib!=3.6.1,>=3.4->seaborn) (25.0)\n",
      "Requirement already satisfied: pillow>=8 in c:\\users\\gutsc\\documents\\second_brain\\quartz\\.venv\\lib\\site-packages (from matplotlib!=3.6.1,>=3.4->seaborn) (11.3.0)\n",
      "Requirement already satisfied: pyparsing>=2.3.1 in c:\\users\\gutsc\\documents\\second_brain\\quartz\\.venv\\lib\\site-packages (from matplotlib!=3.6.1,>=3.4->seaborn) (3.2.3)\n",
      "Requirement already satisfied: six>=1.5 in c:\\users\\gutsc\\documents\\second_brain\\quartz\\.venv\\lib\\site-packages (from python-dateutil>=2.8.2->pandas) (1.17.0)\n",
      "Using cached seaborn-0.13.2-py3-none-any.whl (294 kB)\n",
      "Downloading pandas-2.3.2-cp312-cp312-win_amd64.whl (11.0 MB)\n",
      "   ---------------------------------------- 0.0/11.0 MB ? eta -:--:--\n",
      "   ---------------------------------------- 0.0/11.0 MB 660.6 kB/s eta 0:00:17\n",
      "   ---------------------------------------- 0.0/11.0 MB 393.8 kB/s eta 0:00:28\n",
      "   ---------------------------------------- 0.1/11.0 MB 655.4 kB/s eta 0:00:17\n",
      "   - -------------------------------------- 0.4/11.0 MB 2.1 MB/s eta 0:00:06\n",
      "   --- ------------------------------------ 0.9/11.0 MB 3.9 MB/s eta 0:00:03\n",
      "   ---- ----------------------------------- 1.4/11.0 MB 5.1 MB/s eta 0:00:02\n",
      "   ------ --------------------------------- 1.9/11.0 MB 6.0 MB/s eta 0:00:02\n",
      "   -------- ------------------------------- 2.4/11.0 MB 6.7 MB/s eta 0:00:02\n",
      "   ---------- ----------------------------- 2.9/11.0 MB 7.2 MB/s eta 0:00:02\n",
      "   ------------ --------------------------- 3.5/11.0 MB 7.6 MB/s eta 0:00:01\n",
      "   -------------- ------------------------- 4.0/11.0 MB 8.0 MB/s eta 0:00:01\n",
      "   ---------------- ----------------------- 4.5/11.0 MB 8.2 MB/s eta 0:00:01\n",
      "   ------------------ --------------------- 5.0/11.0 MB 8.5 MB/s eta 0:00:01\n",
      "   -------------------- ------------------- 5.6/11.0 MB 8.7 MB/s eta 0:00:01\n",
      "   ---------------------- ----------------- 6.1/11.0 MB 8.9 MB/s eta 0:00:01\n",
      "   ------------------------ --------------- 6.6/11.0 MB 9.0 MB/s eta 0:00:01\n",
      "   ------------------------- -------------- 7.1/11.0 MB 9.1 MB/s eta 0:00:01\n",
      "   --------------------------- ------------ 7.6/11.0 MB 9.4 MB/s eta 0:00:01\n",
      "   ----------------------------- ---------- 8.2/11.0 MB 9.5 MB/s eta 0:00:01\n",
      "   ------------------------------- -------- 8.7/11.0 MB 9.6 MB/s eta 0:00:01\n",
      "   --------------------------------- ------ 9.2/11.0 MB 9.7 MB/s eta 0:00:01\n",
      "   ----------------------------------- ---- 9.7/11.0 MB 9.7 MB/s eta 0:00:01\n",
      "   ------------------------------------- -- 10.3/11.0 MB 10.6 MB/s eta 0:00:01\n",
      "   ---------------------------------------  10.8/11.0 MB 11.5 MB/s eta 0:00:01\n",
      "   ---------------------------------------- 11.0/11.0 MB 11.1 MB/s eta 0:00:00\n",
      "Using cached pytz-2025.2-py2.py3-none-any.whl (509 kB)\n",
      "Using cached tzdata-2025.2-py2.py3-none-any.whl (347 kB)\n",
      "Installing collected packages: pytz, tzdata, pandas, seaborn\n",
      "Successfully installed pandas-2.3.2 pytz-2025.2 seaborn-0.13.2 tzdata-2025.2\n",
      "Note: you may need to restart the kernel to use updated packages.\n"
     ]
    },
    {
     "name": "stderr",
     "output_type": "stream",
     "text": [
      "\n",
      "[notice] A new release of pip is available: 24.0 -> 25.2\n",
      "[notice] To update, run: python.exe -m pip install --upgrade pip\n"
     ]
    }
   ],
   "source": [
    "%pip install seaborn pandas"
   ]
  },
  {
   "cell_type": "code",
   "execution_count": 3,
   "id": "4edff8b4",
   "metadata": {},
   "outputs": [],
   "source": [
    "import matplotlib.pyplot as plt\n",
    "import seaborn as sns\n",
    "import pandas as pd\n",
    "import torch\n",
    "import torch.nn.functional as F\n",
    "import numpy as np\n",
    "torch.manual_seed(42)  # You can replace 42 with any integer of your choice\n",
    "# Example embeddings (6 words, 10 dimensions)\n",
    "word_embeddings = {\n",
    "    \"May\": torch.tensor([0.1, 0.2, 0.3, 0.4, 0.5, 0.6, 0.7, 0.8, 0.9, 1.0]),\n",
    "    \n",
    "\"the\": torch.tensor([1.0, 0.9, 0.8, 0.7, 0.6, 0.5, 0.4, 0.3, 0.2, 0.1]),\n",
    "    \"force\": torch.tensor([0.5, 0.6, 0.7, 0.8, 0.9, 1.0, 0.1, 0.2, 0.3, 0.4]),\n",
    "    \"be\": torch.tensor([0.2, 0.4, 0.6, 0.8, 1.0, 0.1, 0.3, 0.5, 0.7, 0.9]),\n",
    "    \"with\": torch.tensor([0.9, 0.7, 0.5, 0.3, 0.1, 1.0, 0.8, 0.6, 0.4, 0.2]),\n",
    "    \"you\": torch.tensor([0.3, 0.1, 0.9, 0.7, 0.5, 0.2, 1.0, 0.8, 0.6, 0.4])\n",
    "}\n",
    "input_sentence_list = [\"May\", \"the\", \"force\", \"be\", \"with\", \"you\"]\n",
    "input_embeddings = torch.stack([word_embeddings[word] for word in input_sentence_list])\n",
    "d_model = input_embeddings.shape[1] # Dimension of input embeddings (here 10)\n",
    "num_heads = 2                       # Number of attention heads\n",
    "d_k = d_model // num_heads          # Dimension of the Q, K, V vectors per head (here 5)\n",
    "W_Q = torch.randn(num_heads, d_model, d_k) # (heads, d_model, d_k)\n",
    "W_K = torch.randn(num_heads, d_model, d_k)\n",
    "W_V = torch.randn(num_heads, d_model, d_k)\n",
    "W_O = torch.randn(d_model, d_model)        # Final projection matrix"
   ]
  },
  {
   "cell_type": "code",
   "execution_count": 4,
   "id": "63daff0a",
   "metadata": {},
   "outputs": [],
   "source": [
    "def multi_head_attention(input_embeddings, W_Q, W_K, W_V, W_O, num_heads, d_k, mask=None):\n",
    "    # input_embeddings is expected here with batch dimension: (batch_size, seq_len, d_model)\n",
    "    batch_size, seq_len, d_model = input_embeddings.shape\n",
    "\n",
    "    heads_output = []\n",
    "    attention_matrices = []\n",
    "\n",
    "    for i in range(num_heads):\n",
    "    # Project for the current head\n",
    "    # (batch_size, seq_len, d_model) @ (d_model, d_k) -> (batch_size, seq_len, d_k)\n",
    "        Q_i = torch.matmul(input_embeddings, W_Q[i])\n",
    "        K_i = torch.matmul(input_embeddings, W_K[i])\n",
    "        V_i = torch.matmul(input_embeddings, W_V[i])\n",
    "\n",
    "        # 2. Calculate scaled dot product attention for head_i\n",
    "        # scores: (batch_size, seq_len, seq_len)\n",
    "        scores = torch.matmul(Q_i, K_i.transpose(-2, -1)) / (d_k ** 0.5)\n",
    "        \n",
    "        if mask is not None:\n",
    "            scores = scores.masked_fill(mask == 0, -1e9)\n",
    "\n",
    "        attention_weights_i = F.softmax(scores, dim=-1)\n",
    "                    \n",
    "        # head_i: (batch_size, seq_len, d_k)\n",
    "        head_i = torch.matmul(attention_weights_i, V_i)\n",
    "\n",
    "        heads_output.append(head_i)\n",
    "        attention_matrices.append(attention_weights_i)\n",
    "\n",
    "    # 3. Concatenation of head outputs\n",
    "    # heads_output is a list of (batch_size, seq_len, d_k) tensors\n",
    "    # concated_heads: (batch_size, seq_len, num_heads * d_k) = (batch_size, seq_len, d_model)\n",
    "    concated_heads = torch.cat(heads_output, dim=-1)\n",
    "    \n",
    "    # 4. Final linear projection\n",
    "    # output: (batch_size, seq_len, d_model) @ (d_model, d_model) -> (batch_size, seq_len, d_model)\n",
    "    output = torch.matmul(concated_heads, W_O)\n",
    "\n",
    "    return output, attention_matrices"
   ]
  },
  {
   "cell_type": "code",
   "execution_count": 5,
   "id": "06bb1f93",
   "metadata": {},
   "outputs": [
    {
     "name": "stdout",
     "output_type": "stream",
     "text": [
      "\n",
      "Output of the multi-head attention layer (context vectors):\n",
      " tensor([[-6.3872,  1.9858,  2.1712,  2.7969, -2.1122, -5.8285, -3.3943, -1.7054,\n",
      "         -2.6450,  3.8029],\n",
      "        [-6.0595,  2.2669,  2.7205,  3.5506, -2.4773, -6.7691, -3.6894, -2.3192,\n",
      "         -2.7402,  5.1961],\n",
      "        [-4.6440,  1.6299,  3.9077,  5.0117, -1.8828, -6.0060, -3.2956, -3.3168,\n",
      "         -2.5437,  4.9490],\n",
      "        [-5.7771,  2.0586,  2.5875,  3.0803, -1.6768, -5.7386, -3.5614, -2.2284,\n",
      "         -2.6754,  4.2769],\n",
      "        [-6.4755,  2.3926,  2.5579,  3.2462, -2.8572, -6.9736, -3.5434, -1.9716,\n",
      "         -2.7969,  5.1418],\n",
      "        [-6.8217,  3.0510,  3.1547,  2.3845, -1.8317, -6.1681, -2.8469, -1.6187,\n",
      "         -2.7340,  4.0441]])\n",
      "\n",
      "Number of attention matrices (corresponds to num_heads): 2\n",
      "\n",
      "--- Visualization of attention matrices ---\n"
     ]
    },
    {
     "data": {
      "image/png": "[encoded data removed]",
      "text/plain": [
       "<Figure size 1200x600 with 4 Axes>"
      ]
     },
     "metadata": {},
     "output_type": "display_data"
    }
   ],
   "source": [
    "# Call the multi-head attention function\n",
    "input_embeddings_batched = input_embeddings.unsqueeze(0)\n",
    "\n",
    "output_mha, attention_matrices_mha = multi_head_attention(\n",
    "    input_embeddings_batched, W_Q, W_K, W_V, W_O, num_heads, d_k\n",
    ")\n",
    "\n",
    "print(\"\\nOutput of the multi-head attention layer (context vectors):\\n\", output_mha.squeeze(0)) # squeeze(0) removes the batch dimension\n",
    "print(f\"\\nNumber of attention matrices (corresponds to num_heads): {len(attention_matrices_mha)}\")\n",
    "\n",
    "print(\"\\n--- Visualization of attention matrices ---\")\n",
    "plt.figure(figsize=(num_heads * 6, 6)) # Dynamically adjusts the figure size to the number of heads\n",
    "\n",
    "for i, attn_matrix in enumerate(attention_matrices_mha):\n",
    "    plt.subplot (1, num_heads, i + 1)\n",
    "    # CORRECTED: squeeze(0) to remove the batch dimension\n",
    "    df_attn = pd.DataFrame(attn_matrix.squeeze(0).detach().numpy(), index=input_sentence_list, columns=input_sentence_list)\n",
    "        \n",
    "    sns.heatmap(df_attn, annot=True, cmap=\"YlGnBu\", fmt=\".2f\", linewidths=.5, linecolor=\"gray\")\n",
    "    plt.title(f\"Attention weights Head {i+1}\")\n",
    "    plt.xlabel(\"Keys (what is being paid attention to)\")\n",
    "    plt.ylabel(\"Queries (which word is paid attention to)\")\n",
    "\n",
    "plt.tight_layout()\n",
    "plt.show()"
   ]
  },
  {
   "cell_type": "code",
   "execution_count": null,
   "id": "adc582d5",
   "metadata": {},
   "outputs": [
    {
     "name": "stdout",
     "output_type": "stream",
     "text": [
      "            May       the     force        be      with       you\n",
      "May    0.068118  0.181340  0.071635  0.027055  0.456570  0.195282\n",
      "the    0.015012  0.246116  0.019410  0.006160  0.599809  0.113493\n",
      "force  0.007348  0.470308  0.094195  0.009372  0.368718  0.050059\n",
      "be     0.054408  0.292597  0.065859  0.040474  0.393329  0.153334\n",
      "with   0.018118  0.147041  0.020352  0.003969  0.671181  0.139338\n",
      "you    0.106796  0.130137  0.028468  0.034135  0.407147  0.293317\n"
     ]
    }
   ],
   "source": [
    "print(pd.DataFrame(attention_matrices_mha[0].squeeze(0).detach().numpy(), index=input_sentence_list, columns=input_sentence_list))"
   ]
  },
  {
   "cell_type": "code",
   "execution_count": 7,
   "id": "8f09b4fc",
   "metadata": {},
   "outputs": [
    {
     "name": "stdout",
     "output_type": "stream",
     "text": [
      "            May       the     force        be      with       you\n",
      "May    0.339671  0.036311  0.029780  0.072609  0.169864  0.351766\n",
      "the    0.549202  0.000667  0.000758  0.028736  0.012748  0.407889\n",
      "force  0.651215  0.000264  0.000342  0.038280  0.004499  0.305399\n",
      "be     0.405897  0.003060  0.001443  0.031975  0.038848  0.518777\n",
      "with   0.521837  0.008986  0.017760  0.074093  0.063290  0.314033\n",
      "you    0.522649  0.000785  0.000491  0.012670  0.032367  0.431039\n"
     ]
    }
   ],
   "source": [
    "print(pd.DataFrame(attention_matrices_mha[1].squeeze(0).detach().numpy(), index=input_sentence_list, columns=input_sentence_list))"
   ]
  }
 ],
 "metadata": {
  "kernelspec": {
   "display_name": ".venv (3.12.4)",
   "language": "python",
   "name": "python3"
  },
  "language_info": {
   "codemirror_mode": {
    "name": "ipython",
    "version": 3
   },
   "file_extension": ".py",
   "mimetype": "text/x-python",
   "name": "python",
   "nbconvert_exporter": "python",
   "pygments_lexer": "ipython3",
   "version": "3.12.4"
  }
 },
 "nbformat": 4,
 "nbformat_minor": 5
}
